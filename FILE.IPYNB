{
 "cells": [
  {
   "cell_type": "code",
   "execution_count": 489,
   "metadata": {},
   "outputs": [],
   "source": [
    "from bs4 import BeautifulSoup\n",
    "import pandas as pd\n",
    "import numpy as np\n",
    "import matplotlib.pyplot as plt"
   ]
  },
  {
   "cell_type": "code",
   "execution_count": 9,
   "metadata": {},
   "outputs": [],
   "source": [
    "api_url = \"https://api.stackexchange.com/docs/questions#order=desc&sort=activity&filter=!nKzQURFm*e&site=stackoverflow\""
   ]
  },
  {
   "cell_type": "code",
   "execution_count": 1,
   "metadata": {},
   "outputs": [],
   "source": [
    "from stackapi import StackAPI"
   ]
  },
  {
   "cell_type": "code",
   "execution_count": null,
   "metadata": {},
   "outputs": [],
   "source": [
    "SITE = StackAPI('stackoverflow')\n",
    "questions = SITE.fetch('questions', fromdate=1638316800, todate=1669420800, min=10, tagged='python', sort='votes', filter=\"!nKzQURF6Y5\")\n"
   ]
  },
  {
   "cell_type": "code",
   "execution_count": null,
   "metadata": {},
   "outputs": [],
   "source": []
  },
  {
   "cell_type": "code",
   "execution_count": null,
   "metadata": {},
   "outputs": [],
   "source": [
    "questions['items'][0:10]"
   ]
  },
  {
   "cell_type": "code",
   "execution_count": null,
   "metadata": {},
   "outputs": [],
   "source": [
    "for x in range(len(questions['items'])):\n",
    "    print(questions['items'][x]['tags'])\n",
    "    \n"
   ]
  },
  {
   "cell_type": "code",
   "execution_count": null,
   "metadata": {},
   "outputs": [],
   "source": [
    "# import urllib library\n",
    "from urllib.request import urlopen\n",
    "# import json\n",
    "import json\n",
    "# store the URL in url as \n",
    "# parameter for urlopen\n",
    "url = \"/2.3/questions?fromdate=1638316800&todate=1669420800&order=desc&min=1&sort=votes&site=stackoverflow&filter=!nKzQURF6Y5\"\n",
    "  \n",
    "# store the response of URL\n",
    "response = urlopen(url)\n",
    "  \n",
    "# storing the JSON response \n",
    "# from url in data\n",
    "data_json = json.loads(response.read())\n",
    "  \n",
    "# print the json response\n",
    "print(data_json)"
   ]
  },
  {
   "cell_type": "code",
   "execution_count": null,
   "metadata": {},
   "outputs": [],
   "source": [
    "with open('keys.json', encoding='utf-8') as fh:\n",
    "    data = json.load(fh)\n",
    "\n",
    "print(data)"
   ]
  },
  {
   "cell_type": "code",
   "execution_count": null,
   "metadata": {},
   "outputs": [],
   "source": [
    "/2.3/questions?fromdate=1638316800&todate=1669420800&order=desc&min=1&sort=votes&site=stackoverflow&filter=!nKzQURF6Y5"
   ]
  },
  {
   "cell_type": "code",
   "execution_count": 495,
   "metadata": {},
   "outputs": [],
   "source": [
    "from selenium import webdriver\n",
    "from selenium.webdriver.common.by import By"
   ]
  },
  {
   "cell_type": "code",
   "execution_count": 749,
   "metadata": {},
   "outputs": [
    {
     "name": "stderr",
     "output_type": "stream",
     "text": [
      "C:\\Users\\Note\\AppData\\Local\\Temp\\ipykernel_3840\\1404538291.py:1: DeprecationWarning: executable_path has been deprecated, please pass in a Service object\n",
      "  driver = webdriver.Chrome('./chromedriver')\n"
     ]
    }
   ],
   "source": [
    "driver = webdriver.Chrome('./chromedriver')\n",
    "page = 1\n",
    "driver.get(f\"https://stackoverflow.com/questions?tab=newest&page={page}&pagesize=50\")"
   ]
  },
  {
   "cell_type": "code",
   "execution_count": 577,
   "metadata": {},
   "outputs": [],
   "source": [
    "context  = driver.find_elements(By.XPATH, '//div[@class=\"s-post-summary    js-post-summary\"]')"
   ]
  },
  {
   "cell_type": "code",
   "execution_count": null,
   "metadata": {},
   "outputs": [],
   "source": [
    "context"
   ]
  },
  {
   "cell_type": "code",
   "execution_count": 602,
   "metadata": {},
   "outputs": [],
   "source": [
    "c = 'asdasd'"
   ]
  },
  {
   "cell_type": "code",
   "execution_count": 604,
   "metadata": {},
   "outputs": [
    {
     "name": "stdout",
     "output_type": "stream",
     "text": [
      "asdf\n"
     ]
    }
   ],
   "source": [
    "if 'c' in c:\n",
    "    print('hellworld')\n",
    "else:\n",
    "    print('asdf')"
   ]
  },
  {
   "cell_type": "code",
   "execution_count": 662,
   "metadata": {},
   "outputs": [],
   "source": [
    "pd.set_option('display.max_rows', 500)\n",
    "pd.set_option('display.max_columns', 500)\n",
    "pd.set_option('display.width', 0)"
   ]
  },
  {
   "cell_type": "code",
   "execution_count": null,
   "metadata": {},
   "outputs": [],
   "source": []
  },
  {
   "cell_type": "code",
   "execution_count": null,
   "metadata": {},
   "outputs": [],
   "source": [
    "from selenium import webdriver\n",
    "from selenium.webdriver.common.by import By\n",
    "driver = webdriver.Chrome('./chromedriver')\n",
    "\n",
    "\n",
    "context_summary = []\n",
    "title = []\n",
    "votes = []\n",
    "answers = []\n",
    "views = []\n",
    "tag = []\n",
    "user = []\n",
    "time = []\n",
    "link = []\n",
    "id1 = []\n",
    "\n",
    "def sc():\n",
    "\n",
    "    context  = driver.find_elements(By.XPATH, '//div[@class=\"s-post-summary    js-post-summary\"]')\n",
    "    for x in context:\n",
    "        id1.append(x.get_attribute('data-post-id'))\n",
    "        title.append(x.find_element(By.XPATH, '*//h3[@class = \"s-post-summary--content-title\"]').text)\n",
    "        context_summary.append(x.find_element(By.XPATH, '*//div[@class = \"s-post-summary--content-excerpt\"]').text)\n",
    "        v = x.find_elements(By.XPATH, '*//span[@class = \"s-post-summary--stats-item-number\"]')\n",
    "        tagg = x.find_elements(By.XPATH, '*//li[@class = \"d-inline mr4 js-post-tag-list-item\"]')\n",
    "        user__ = x.find_elements(By.XPATH, '*//a[@class = \"flex--item\"]')\n",
    "        user.append(user__[0].text)\n",
    "        tag.append([xxx.text for xxx in tagg])\n",
    "        temp = [vv.text for vv in v]note\n",
    "        votes.append(temp[0])\n",
    "        answers.append(temp[1])\n",
    "        views.append(temp[2])\n",
    "        s = (x.find_elements(By.XPATH, \"*//time[@class = 's-user-card--time']/..//span[@title]\"))\n",
    "        time.append(s[1].get_attribute(\"title\"))\n",
    "        links = x.find_element(By.XPATH, \"*//h3[@class='s-post-summary--content-title']/a\").get_attribute('href')\n",
    "        link.append(links)\n",
    "        \n",
    "\n",
    "page = 1\n",
    "while page != 200:\n",
    "    if page == 1:\n",
    "        driver.get(f\"https://stackoverflow.com/questions?tab=newest&page={page}&pagesize=50\")\n",
    "        sc()\n",
    "        page += 1\n",
    "    else:\n",
    "        driver.get(f\"https://stackoverflow.com/questions?tab=newest&page={page}&pagesize=50\")\n",
    "        sc()\n",
    "        page += 1\n",
    "\n",
    "data = pd.DataFrame({\n",
    "    'id': id1,\n",
    "    'User': user,\n",
    "    'title': title,\n",
    "    'body': context_summary,\n",
    "    'tag' : tag,\n",
    "    'Vote' : votes,\n",
    "    'Answer': answers,\n",
    "    'Views':  views,\n",
    "    'Timestamp': time,\n",
    "    'Links': link\n",
    "        })\n",
    "\n",
    "\n",
    "data"
   ]
  },
  {
   "cell_type": "code",
   "execution_count": 751,
   "metadata": {},
   "outputs": [
    {
     "data": {
      "text/html": [
       "<div>\n",
       "<style scoped>\n",
       "    .dataframe tbody tr th:only-of-type {\n",
       "        vertical-align: middle;\n",
       "    }\n",
       "\n",
       "    .dataframe tbody tr th {\n",
       "        vertical-align: top;\n",
       "    }\n",
       "\n",
       "    .dataframe thead th {\n",
       "        text-align: right;\n",
       "    }\n",
       "</style>\n",
       "<table border=\"1\" class=\"dataframe\">\n",
       "  <thead>\n",
       "    <tr style=\"text-align: right;\">\n",
       "      <th></th>\n",
       "      <th>id</th>\n",
       "      <th>User</th>\n",
       "      <th>title</th>\n",
       "      <th>body</th>\n",
       "      <th>tag</th>\n",
       "      <th>Vote</th>\n",
       "      <th>Answer</th>\n",
       "      <th>Views</th>\n",
       "      <th>Timestamp</th>\n",
       "      <th>Links</th>\n",
       "    </tr>\n",
       "  </thead>\n",
       "  <tbody>\n",
       "    <tr>\n",
       "      <th>0</th>\n",
       "      <td>74581234</td>\n",
       "      <td>ABHISHEK RANJAN</td>\n",
       "      <td>Set container width according to image.network...</td>\n",
       "      <td>i want to fix my container size(width) accordi...</td>\n",
       "      <td>[flutter, widget, flutter-container]</td>\n",
       "      <td>0</td>\n",
       "      <td>0</td>\n",
       "      <td>3</td>\n",
       "      <td>2022-11-26 10:03:51Z</td>\n",
       "      <td>https://stackoverflow.com/questions/74581234/s...</td>\n",
       "    </tr>\n",
       "    <tr>\n",
       "      <th>1</th>\n",
       "      <td>74581232</td>\n",
       "      <td>Anas116</td>\n",
       "      <td>How to flip two consective rows in a dataframe...</td>\n",
       "      <td>I have this dataframe (but very big that inclu...</td>\n",
       "      <td>[r, dataframe, row, na, flip]</td>\n",
       "      <td>0</td>\n",
       "      <td>0</td>\n",
       "      <td>2</td>\n",
       "      <td>2022-11-26 10:03:45Z</td>\n",
       "      <td>https://stackoverflow.com/questions/74581232/h...</td>\n",
       "    </tr>\n",
       "    <tr>\n",
       "      <th>2</th>\n",
       "      <td>74581230</td>\n",
       "      <td>DragonKnight</td>\n",
       "      <td>How to add entity via spring and hibernate in ...</td>\n",
       "      <td>I have a User class and a Business class which...</td>\n",
       "      <td>[java, spring-boot, hibernate, kotlin, spring-...</td>\n",
       "      <td>0</td>\n",
       "      <td>0</td>\n",
       "      <td>3</td>\n",
       "      <td>2022-11-26 10:03:34Z</td>\n",
       "      <td>https://stackoverflow.com/questions/74581230/h...</td>\n",
       "    </tr>\n",
       "    <tr>\n",
       "      <th>3</th>\n",
       "      <td>74581226</td>\n",
       "      <td>RS1</td>\n",
       "      <td>Dynamic programming variant of target sum problem</td>\n",
       "      <td>Given an array=[2,1,0,7,2], and a value v=5 we...</td>\n",
       "      <td>[dynamic-programming]</td>\n",
       "      <td>1</td>\n",
       "      <td>0</td>\n",
       "      <td>8</td>\n",
       "      <td>2022-11-26 10:02:32Z</td>\n",
       "      <td>https://stackoverflow.com/questions/74581226/d...</td>\n",
       "    </tr>\n",
       "    <tr>\n",
       "      <th>4</th>\n",
       "      <td>74581225</td>\n",
       "      <td>Kaspar L. Palgi</td>\n",
       "      <td>How to mutate via GraphQL special characters a...</td>\n",
       "      <td>I'm fetching emails from IMAP and want to stor...</td>\n",
       "      <td>[postgresql, graphql, special-characters]</td>\n",
       "      <td>0</td>\n",
       "      <td>0</td>\n",
       "      <td>3</td>\n",
       "      <td>2022-11-26 10:02:27Z</td>\n",
       "      <td>https://stackoverflow.com/questions/74581225/h...</td>\n",
       "    </tr>\n",
       "    <tr>\n",
       "      <th>5</th>\n",
       "      <td>74581222</td>\n",
       "      <td>Omamuyovwi Lucky</td>\n",
       "      <td>I want my multiple prefabs to go to different ...</td>\n",
       "      <td>I'm trying to spawned my prefabs on different ...</td>\n",
       "      <td>[c#, unity3d]</td>\n",
       "      <td>0</td>\n",
       "      <td>0</td>\n",
       "      <td>3</td>\n",
       "      <td>2022-11-26 10:02:05Z</td>\n",
       "      <td>https://stackoverflow.com/questions/74581222/i...</td>\n",
       "    </tr>\n",
       "    <tr>\n",
       "      <th>6</th>\n",
       "      <td>74581221</td>\n",
       "      <td>Pro Dev</td>\n",
       "      <td>Counting the keys in a nested dictionary and c...</td>\n",
       "      <td>I've the following dictionary { \"Africa\":{ \"Al...</td>\n",
       "      <td>[python, json, dictionary, recursion, grouping]</td>\n",
       "      <td>0</td>\n",
       "      <td>0</td>\n",
       "      <td>8</td>\n",
       "      <td>2022-11-26 10:01:57Z</td>\n",
       "      <td>https://stackoverflow.com/questions/74581221/c...</td>\n",
       "    </tr>\n",
       "    <tr>\n",
       "      <th>7</th>\n",
       "      <td>74581220</td>\n",
       "      <td>Anita</td>\n",
       "      <td>Create list of letters from multiply strings i...</td>\n",
       "      <td>I would like to create a 3 lists of single let...</td>\n",
       "      <td>[string, list, split]</td>\n",
       "      <td>0</td>\n",
       "      <td>0</td>\n",
       "      <td>4</td>\n",
       "      <td>2022-11-26 10:01:51Z</td>\n",
       "      <td>https://stackoverflow.com/questions/74581220/c...</td>\n",
       "    </tr>\n",
       "    <tr>\n",
       "      <th>8</th>\n",
       "      <td>74581219</td>\n",
       "      <td>blendstylez</td>\n",
       "      <td>Handling response from URLSession.shared.uploa...</td>\n",
       "      <td>i created an upload task which is working fine...</td>\n",
       "      <td>[swift, upload, urlsession]</td>\n",
       "      <td>0</td>\n",
       "      <td>0</td>\n",
       "      <td>3</td>\n",
       "      <td>2022-11-26 10:01:39Z</td>\n",
       "      <td>https://stackoverflow.com/questions/74581219/h...</td>\n",
       "    </tr>\n",
       "    <tr>\n",
       "      <th>9</th>\n",
       "      <td>74581217</td>\n",
       "      <td>MiamiBeach</td>\n",
       "      <td>Pandas: sum next 5 items of dataframe after so...</td>\n",
       "      <td>I have DataFrame which looks like just a list ...</td>\n",
       "      <td>[python, pandas, dataframe]</td>\n",
       "      <td>0</td>\n",
       "      <td>0</td>\n",
       "      <td>9</td>\n",
       "      <td>2022-11-26 10:01:19Z</td>\n",
       "      <td>https://stackoverflow.com/questions/74581217/p...</td>\n",
       "    </tr>\n",
       "    <tr>\n",
       "      <th>10</th>\n",
       "      <td>74581216</td>\n",
       "      <td>tommy1213</td>\n",
       "      <td>WASM app egui storage exists on a new clean br...</td>\n",
       "      <td>I've added save state functionality to my App,...</td>\n",
       "      <td>[rust]</td>\n",
       "      <td>1</td>\n",
       "      <td>0</td>\n",
       "      <td>4</td>\n",
       "      <td>2022-11-26 10:01:12Z</td>\n",
       "      <td>https://stackoverflow.com/questions/74581216/w...</td>\n",
       "    </tr>\n",
       "    <tr>\n",
       "      <th>11</th>\n",
       "      <td>74581214</td>\n",
       "      <td>Jan Verhagen</td>\n",
       "      <td>Springboot security issue when deploying war o...</td>\n",
       "      <td>I have a springboot application that I can run...</td>\n",
       "      <td>[java, spring-boot, tomcat, war, spring-boot-s...</td>\n",
       "      <td>0</td>\n",
       "      <td>0</td>\n",
       "      <td>6</td>\n",
       "      <td>2022-11-26 10:00:49Z</td>\n",
       "      <td>https://stackoverflow.com/questions/74581214/s...</td>\n",
       "    </tr>\n",
       "    <tr>\n",
       "      <th>12</th>\n",
       "      <td>74581212</td>\n",
       "      <td>MARK ANTHONY NAZARENO</td>\n",
       "      <td>Tensorflow deploy in firebase</td>\n",
       "      <td>It is okay to deploy first the tflite model to...</td>\n",
       "      <td>[firebase-realtime-database, object-detection,...</td>\n",
       "      <td>0</td>\n",
       "      <td>0</td>\n",
       "      <td>4</td>\n",
       "      <td>2022-11-26 10:00:17Z</td>\n",
       "      <td>https://stackoverflow.com/questions/74581212/t...</td>\n",
       "    </tr>\n",
       "    <tr>\n",
       "      <th>13</th>\n",
       "      <td>74581210</td>\n",
       "      <td>Andrew Gee</td>\n",
       "      <td>How to 'backfill' data using Azure Function Bl...</td>\n",
       "      <td>If I have a container with a large number of E...</td>\n",
       "      <td>[c#, azure-functions]</td>\n",
       "      <td>0</td>\n",
       "      <td>0</td>\n",
       "      <td>3</td>\n",
       "      <td>2022-11-26 09:59:39Z</td>\n",
       "      <td>https://stackoverflow.com/questions/74581210/h...</td>\n",
       "    </tr>\n",
       "    <tr>\n",
       "      <th>14</th>\n",
       "      <td>74581209</td>\n",
       "      <td>JavaForAndroid</td>\n",
       "      <td>Playing video from internal storage on Android?</td>\n",
       "      <td>I have created an application which downloads ...</td>\n",
       "      <td>[android, video, android-intent, permissions]</td>\n",
       "      <td>0</td>\n",
       "      <td>0</td>\n",
       "      <td>3</td>\n",
       "      <td>2022-11-26 09:59:37Z</td>\n",
       "      <td>https://stackoverflow.com/questions/74581209/p...</td>\n",
       "    </tr>\n",
       "  </tbody>\n",
       "</table>\n",
       "</div>"
      ],
      "text/plain": [
       "          id                   User                                              title                                               body                                                tag Vote Answer Views             Timestamp                                              Links\n",
       "0   74581234        ABHISHEK RANJAN  Set container width according to image.network...  i want to fix my container size(width) accordi...               [flutter, widget, flutter-container]    0      0     3  2022-11-26 10:03:51Z  https://stackoverflow.com/questions/74581234/s...\n",
       "1   74581232                Anas116  How to flip two consective rows in a dataframe...  I have this dataframe (but very big that inclu...                      [r, dataframe, row, na, flip]    0      0     2  2022-11-26 10:03:45Z  https://stackoverflow.com/questions/74581232/h...\n",
       "2   74581230           DragonKnight  How to add entity via spring and hibernate in ...  I have a User class and a Business class which...  [java, spring-boot, hibernate, kotlin, spring-...    0      0     3  2022-11-26 10:03:34Z  https://stackoverflow.com/questions/74581230/h...\n",
       "3   74581226                    RS1  Dynamic programming variant of target sum problem  Given an array=[2,1,0,7,2], and a value v=5 we...                              [dynamic-programming]    1      0     8  2022-11-26 10:02:32Z  https://stackoverflow.com/questions/74581226/d...\n",
       "4   74581225        Kaspar L. Palgi  How to mutate via GraphQL special characters a...  I'm fetching emails from IMAP and want to stor...          [postgresql, graphql, special-characters]    0      0     3  2022-11-26 10:02:27Z  https://stackoverflow.com/questions/74581225/h...\n",
       "5   74581222       Omamuyovwi Lucky  I want my multiple prefabs to go to different ...  I'm trying to spawned my prefabs on different ...                                      [c#, unity3d]    0      0     3  2022-11-26 10:02:05Z  https://stackoverflow.com/questions/74581222/i...\n",
       "6   74581221                Pro Dev  Counting the keys in a nested dictionary and c...  I've the following dictionary { \"Africa\":{ \"Al...    [python, json, dictionary, recursion, grouping]    0      0     8  2022-11-26 10:01:57Z  https://stackoverflow.com/questions/74581221/c...\n",
       "7   74581220                  Anita  Create list of letters from multiply strings i...  I would like to create a 3 lists of single let...                              [string, list, split]    0      0     4  2022-11-26 10:01:51Z  https://stackoverflow.com/questions/74581220/c...\n",
       "8   74581219            blendstylez  Handling response from URLSession.shared.uploa...  i created an upload task which is working fine...                        [swift, upload, urlsession]    0      0     3  2022-11-26 10:01:39Z  https://stackoverflow.com/questions/74581219/h...\n",
       "9   74581217             MiamiBeach  Pandas: sum next 5 items of dataframe after so...  I have DataFrame which looks like just a list ...                        [python, pandas, dataframe]    0      0     9  2022-11-26 10:01:19Z  https://stackoverflow.com/questions/74581217/p...\n",
       "10  74581216              tommy1213  WASM app egui storage exists on a new clean br...  I've added save state functionality to my App,...                                             [rust]    1      0     4  2022-11-26 10:01:12Z  https://stackoverflow.com/questions/74581216/w...\n",
       "11  74581214           Jan Verhagen  Springboot security issue when deploying war o...  I have a springboot application that I can run...  [java, spring-boot, tomcat, war, spring-boot-s...    0      0     6  2022-11-26 10:00:49Z  https://stackoverflow.com/questions/74581214/s...\n",
       "12  74581212  MARK ANTHONY NAZARENO                      Tensorflow deploy in firebase  It is okay to deploy first the tflite model to...  [firebase-realtime-database, object-detection,...    0      0     4  2022-11-26 10:00:17Z  https://stackoverflow.com/questions/74581212/t...\n",
       "13  74581210             Andrew Gee  How to 'backfill' data using Azure Function Bl...  If I have a container with a large number of E...                              [c#, azure-functions]    0      0     3  2022-11-26 09:59:39Z  https://stackoverflow.com/questions/74581210/h...\n",
       "14  74581209         JavaForAndroid    Playing video from internal storage on Android?  I have created an application which downloads ...      [android, video, android-intent, permissions]    0      0     3  2022-11-26 09:59:37Z  https://stackoverflow.com/questions/74581209/p..."
      ]
     },
     "execution_count": 751,
     "metadata": {},
     "output_type": "execute_result"
    }
   ],
   "source": [
    "data"
   ]
  },
  {
   "cell_type": "code",
   "execution_count": null,
   "metadata": {},
   "outputs": [],
   "source": []
  },
  {
   "cell_type": "code",
   "execution_count": 664,
   "metadata": {},
   "outputs": [],
   "source": [
    "pd.set_option('display.expand_frame_repr', False)"
   ]
  },
  {
   "cell_type": "code",
   "execution_count": 673,
   "metadata": {},
   "outputs": [],
   "source": [
    "data.Views = data.Views.astype(int)"
   ]
  },
  {
   "cell_type": "code",
   "execution_count": 674,
   "metadata": {},
   "outputs": [
    {
     "data": {
      "text/html": [
       "<div>\n",
       "<style scoped>\n",
       "    .dataframe tbody tr th:only-of-type {\n",
       "        vertical-align: middle;\n",
       "    }\n",
       "\n",
       "    .dataframe tbody tr th {\n",
       "        vertical-align: top;\n",
       "    }\n",
       "\n",
       "    .dataframe thead th {\n",
       "        text-align: right;\n",
       "    }\n",
       "</style>\n",
       "<table border=\"1\" class=\"dataframe\">\n",
       "  <thead>\n",
       "    <tr style=\"text-align: right;\">\n",
       "      <th></th>\n",
       "      <th>User</th>\n",
       "      <th>title</th>\n",
       "      <th>body</th>\n",
       "      <th>tag</th>\n",
       "      <th>Vote</th>\n",
       "      <th>Answer</th>\n",
       "      <th>Views</th>\n",
       "      <th>Timestamp</th>\n",
       "    </tr>\n",
       "  </thead>\n",
       "  <tbody>\n",
       "    <tr>\n",
       "      <th>8</th>\n",
       "      <td>hansTheFranz</td>\n",
       "      <td>How to select with IN operator with DenoDB</td>\n",
       "      <td>So basically I would like to execute a SQL sta...</td>\n",
       "      <td>[postgresql, deno, in-operator, denodb]</td>\n",
       "      <td>0</td>\n",
       "      <td>0</td>\n",
       "      <td>7</td>\n",
       "      <td>2022-11-26 09:17:51Z</td>\n",
       "    </tr>\n",
       "    <tr>\n",
       "      <th>9</th>\n",
       "      <td>Emre7</td>\n",
       "      <td>Adding and listing JSON to the cookie</td>\n",
       "      <td>I want to add JSON data to the browser cookie ...</td>\n",
       "      <td>[javascript, json, cookies]</td>\n",
       "      <td>0</td>\n",
       "      <td>0</td>\n",
       "      <td>6</td>\n",
       "      <td>2022-11-26 09:17:42Z</td>\n",
       "    </tr>\n",
       "    <tr>\n",
       "      <th>11</th>\n",
       "      <td>qbizzle68</td>\n",
       "      <td>How to dynamically allocate multi-dimensional ...</td>\n",
       "      <td>I have a structure that contains a pointer to ...</td>\n",
       "      <td>[c, memory-management, dynamic-arrays]</td>\n",
       "      <td>0</td>\n",
       "      <td>0</td>\n",
       "      <td>7</td>\n",
       "      <td>2022-11-26 09:17:37Z</td>\n",
       "    </tr>\n",
       "  </tbody>\n",
       "</table>\n",
       "</div>"
      ],
      "text/plain": [
       "            User                                              title                                               body                                      tag Vote Answer  Views             Timestamp\n",
       "8   hansTheFranz         How to select with IN operator with DenoDB  So basically I would like to execute a SQL sta...  [postgresql, deno, in-operator, denodb]    0      0      7  2022-11-26 09:17:51Z\n",
       "9          Emre7              Adding and listing JSON to the cookie  I want to add JSON data to the browser cookie ...              [javascript, json, cookies]    0      0      6  2022-11-26 09:17:42Z\n",
       "11     qbizzle68  How to dynamically allocate multi-dimensional ...  I have a structure that contains a pointer to ...   [c, memory-management, dynamic-arrays]    0      0      7  2022-11-26 09:17:37Z"
      ]
     },
     "execution_count": 674,
     "metadata": {},
     "output_type": "execute_result"
    }
   ],
   "source": [
    "data[data.Views > 5]"
   ]
  },
  {
   "cell_type": "code",
   "execution_count": 601,
   "metadata": {},
   "outputs": [
    {
     "data": {
      "text/plain": [
       "['2022-11-26 08:55:03Z',\n",
       " '2022-11-26 08:55:02Z',\n",
       " '2022-11-26 08:54:30Z',\n",
       " '2022-11-26 08:53:58Z',\n",
       " '2022-11-26 08:53:02Z',\n",
       " '2022-11-26 08:52:48Z',\n",
       " 'reputation score 22,785',\n",
       " '2022-11-26 08:52:27Z',\n",
       " '2022-11-26 08:51:58Z',\n",
       " '2022-11-26 08:51:58Z',\n",
       " '2022-11-26 08:51:32Z',\n",
       " '2022-11-26 08:50:45Z',\n",
       " '2022-11-26 08:49:14Z',\n",
       " '2022-11-26 08:48:48Z',\n",
       " '2022-11-26 08:48:20Z',\n",
       " '2022-11-26 08:48:14Z']"
      ]
     },
     "execution_count": 601,
     "metadata": {},
     "output_type": "execute_result"
    }
   ],
   "source": [
    "time"
   ]
  },
  {
   "cell_type": "code",
   "execution_count": 575,
   "metadata": {},
   "outputs": [],
   "source": [
    "context  = driver.find_elements(By.XPATH, '//div[@class=\"s-post-summary    js-post-summary\"]')"
   ]
  },
  {
   "cell_type": "code",
   "execution_count": 605,
   "metadata": {},
   "outputs": [
    {
     "ename": "NoSuchWindowException",
     "evalue": "Message: no such window: target window already closed\nfrom unknown error: web view not found\n  (Session info: chrome=107.0.5304.122)\nStacktrace:\nBacktrace:\n\tOrdinal0 [0x005CACD3+2075859]\n\tOrdinal0 [0x0055EE61+1633889]\n\tOrdinal0 [0x0045B7BD+571325]\n\tOrdinal0 [0x00442E1A+470554]\n\tOrdinal0 [0x004AAA0B+895499]\n\tOrdinal0 [0x004BAC96+961686]\n\tOrdinal0 [0x004A7136+880950]\n\tOrdinal0 [0x0047FEFD+720637]\n\tOrdinal0 [0x00480F3F+724799]\n\tGetHandleVerifier [0x0087EED2+2769538]\n\tGetHandleVerifier [0x00870D95+2711877]\n\tGetHandleVerifier [0x0065A03A+521194]\n\tGetHandleVerifier [0x00658DA0+516432]\n\tOrdinal0 [0x0056682C+1665068]\n\tOrdinal0 [0x0056B128+1683752]\n\tOrdinal0 [0x0056B215+1683989]\n\tOrdinal0 [0x00576484+1729668]\n\tBaseThreadInitThunk [0x76DB7BA9+25]\n\tRtlInitializeExceptionChain [0x7797BB9B+107]\n\tRtlClearBits [0x7797BB1F+191]\n",
     "output_type": "error",
     "traceback": [
      "\u001b[1;31m---------------------------------------------------------------------------\u001b[0m",
      "\u001b[1;31mNoSuchWindowException\u001b[0m                     Traceback (most recent call last)",
      "Cell \u001b[1;32mIn [605], line 11\u001b[0m\n\u001b[0;32m      7\u001b[0m user \u001b[39m=\u001b[39m []\n\u001b[0;32m      8\u001b[0m time \u001b[39m=\u001b[39m []\n\u001b[1;32m---> 11\u001b[0m title\u001b[39m.\u001b[39mappend(x\u001b[39m.\u001b[39;49mfind_element(By\u001b[39m.\u001b[39;49mXPATH, \u001b[39m'\u001b[39;49m\u001b[39m*//h3[@class = \u001b[39;49m\u001b[39m\"\u001b[39;49m\u001b[39ms-post-summary--content-title\u001b[39;49m\u001b[39m\"\u001b[39;49m\u001b[39m]\u001b[39;49m\u001b[39m'\u001b[39;49m)\u001b[39m.\u001b[39mtext)\n\u001b[0;32m     12\u001b[0m context_summary\u001b[39m.\u001b[39mappend(x\u001b[39m.\u001b[39mfind_element(By\u001b[39m.\u001b[39mXPATH, \u001b[39m'\u001b[39m\u001b[39m*//div[@class = \u001b[39m\u001b[39m\"\u001b[39m\u001b[39ms-post-summary--content-excerpt\u001b[39m\u001b[39m\"\u001b[39m\u001b[39m]\u001b[39m\u001b[39m'\u001b[39m)\u001b[39m.\u001b[39mtext)\n\u001b[0;32m     13\u001b[0m \u001b[39m#votes.append([x.find_elements(By.XPATH, '//span[@class = \"s-post-summary--stats-item-number\"]')])\u001b[39;00m\n",
      "File \u001b[1;32mc:\\Users\\Note\\miniconda3\\envs\\fast\\lib\\site-packages\\selenium\\webdriver\\remote\\webelement.py:433\u001b[0m, in \u001b[0;36mWebElement.find_element\u001b[1;34m(self, by, value)\u001b[0m\n\u001b[0;32m    430\u001b[0m     by \u001b[39m=\u001b[39m By\u001b[39m.\u001b[39mCSS_SELECTOR\n\u001b[0;32m    431\u001b[0m     value \u001b[39m=\u001b[39m \u001b[39m'\u001b[39m\u001b[39m[name=\u001b[39m\u001b[39m\"\u001b[39m\u001b[39m%s\u001b[39;00m\u001b[39m\"\u001b[39m\u001b[39m]\u001b[39m\u001b[39m'\u001b[39m \u001b[39m%\u001b[39m value\n\u001b[1;32m--> 433\u001b[0m \u001b[39mreturn\u001b[39;00m \u001b[39mself\u001b[39;49m\u001b[39m.\u001b[39;49m_execute(Command\u001b[39m.\u001b[39;49mFIND_CHILD_ELEMENT, {\u001b[39m\"\u001b[39;49m\u001b[39musing\u001b[39;49m\u001b[39m\"\u001b[39;49m: by, \u001b[39m\"\u001b[39;49m\u001b[39mvalue\u001b[39;49m\u001b[39m\"\u001b[39;49m: value})[\u001b[39m\"\u001b[39m\u001b[39mvalue\u001b[39m\u001b[39m\"\u001b[39m]\n",
      "File \u001b[1;32mc:\\Users\\Note\\miniconda3\\envs\\fast\\lib\\site-packages\\selenium\\webdriver\\remote\\webelement.py:410\u001b[0m, in \u001b[0;36mWebElement._execute\u001b[1;34m(self, command, params)\u001b[0m\n\u001b[0;32m    408\u001b[0m     params \u001b[39m=\u001b[39m {}\n\u001b[0;32m    409\u001b[0m params[\u001b[39m\"\u001b[39m\u001b[39mid\u001b[39m\u001b[39m\"\u001b[39m] \u001b[39m=\u001b[39m \u001b[39mself\u001b[39m\u001b[39m.\u001b[39m_id\n\u001b[1;32m--> 410\u001b[0m \u001b[39mreturn\u001b[39;00m \u001b[39mself\u001b[39;49m\u001b[39m.\u001b[39;49m_parent\u001b[39m.\u001b[39;49mexecute(command, params)\n",
      "File \u001b[1;32mc:\\Users\\Note\\miniconda3\\envs\\fast\\lib\\site-packages\\selenium\\webdriver\\remote\\webdriver.py:444\u001b[0m, in \u001b[0;36mWebDriver.execute\u001b[1;34m(self, driver_command, params)\u001b[0m\n\u001b[0;32m    442\u001b[0m response \u001b[39m=\u001b[39m \u001b[39mself\u001b[39m\u001b[39m.\u001b[39mcommand_executor\u001b[39m.\u001b[39mexecute(driver_command, params)\n\u001b[0;32m    443\u001b[0m \u001b[39mif\u001b[39;00m response:\n\u001b[1;32m--> 444\u001b[0m     \u001b[39mself\u001b[39;49m\u001b[39m.\u001b[39;49merror_handler\u001b[39m.\u001b[39;49mcheck_response(response)\n\u001b[0;32m    445\u001b[0m     response[\u001b[39m\"\u001b[39m\u001b[39mvalue\u001b[39m\u001b[39m\"\u001b[39m] \u001b[39m=\u001b[39m \u001b[39mself\u001b[39m\u001b[39m.\u001b[39m_unwrap_value(response\u001b[39m.\u001b[39mget(\u001b[39m\"\u001b[39m\u001b[39mvalue\u001b[39m\u001b[39m\"\u001b[39m, \u001b[39mNone\u001b[39;00m))\n\u001b[0;32m    446\u001b[0m     \u001b[39mreturn\u001b[39;00m response\n",
      "File \u001b[1;32mc:\\Users\\Note\\miniconda3\\envs\\fast\\lib\\site-packages\\selenium\\webdriver\\remote\\errorhandler.py:249\u001b[0m, in \u001b[0;36mErrorHandler.check_response\u001b[1;34m(self, response)\u001b[0m\n\u001b[0;32m    247\u001b[0m         alert_text \u001b[39m=\u001b[39m value[\u001b[39m\"\u001b[39m\u001b[39malert\u001b[39m\u001b[39m\"\u001b[39m]\u001b[39m.\u001b[39mget(\u001b[39m\"\u001b[39m\u001b[39mtext\u001b[39m\u001b[39m\"\u001b[39m)\n\u001b[0;32m    248\u001b[0m     \u001b[39mraise\u001b[39;00m exception_class(message, screen, stacktrace, alert_text)  \u001b[39m# type: ignore[call-arg]  # mypy is not smart enough here\u001b[39;00m\n\u001b[1;32m--> 249\u001b[0m \u001b[39mraise\u001b[39;00m exception_class(message, screen, stacktrace)\n",
      "\u001b[1;31mNoSuchWindowException\u001b[0m: Message: no such window: target window already closed\nfrom unknown error: web view not found\n  (Session info: chrome=107.0.5304.122)\nStacktrace:\nBacktrace:\n\tOrdinal0 [0x005CACD3+2075859]\n\tOrdinal0 [0x0055EE61+1633889]\n\tOrdinal0 [0x0045B7BD+571325]\n\tOrdinal0 [0x00442E1A+470554]\n\tOrdinal0 [0x004AAA0B+895499]\n\tOrdinal0 [0x004BAC96+961686]\n\tOrdinal0 [0x004A7136+880950]\n\tOrdinal0 [0x0047FEFD+720637]\n\tOrdinal0 [0x00480F3F+724799]\n\tGetHandleVerifier [0x0087EED2+2769538]\n\tGetHandleVerifier [0x00870D95+2711877]\n\tGetHandleVerifier [0x0065A03A+521194]\n\tGetHandleVerifier [0x00658DA0+516432]\n\tOrdinal0 [0x0056682C+1665068]\n\tOrdinal0 [0x0056B128+1683752]\n\tOrdinal0 [0x0056B215+1683989]\n\tOrdinal0 [0x00576484+1729668]\n\tBaseThreadInitThunk [0x76DB7BA9+25]\n\tRtlInitializeExceptionChain [0x7797BB9B+107]\n\tRtlClearBits [0x7797BB1F+191]\n"
     ]
    }
   ],
   "source": [
    "context_summary = []\n",
    "title = []\n",
    "votes = []\n",
    "answers = []\n",
    "views = []\n",
    "tag = []\n",
    "user = []\n",
    "time = []\n",
    "\n",
    "\n",
    "title.append(x.find_element(By.XPATH, '*//h3[@class = \"s-post-summary--content-title\"]').text)\n",
    "context_summary.append(x.find_element(By.XPATH, '*//div[@class = \"s-post-summary--content-excerpt\"]').text)\n",
    "#votes.append([x.find_elements(By.XPATH, '//span[@class = \"s-post-summary--stats-item-number\"]')])\n",
    "v = x.find_elements(By.XPATH, '*//span[@class = \"s-post-summary--stats-item-number\"]')\n",
    "tagg = x.find_elements(By.XPATH, '*//li[@class = \"d-inline mr4 js-post-tag-list-item\"]')\n",
    "user__ = x.find_elements(By.XPATH, '*//a[@class = \"flex--item\"]')\n",
    "user.append(user__[0].text)\n",
    "tag.append([xxx.text for xxx in tagg])\n",
    "votes.append([vv.text for vv in v])\n",
    "timess = (x.find_elements(By.XPATH, \"*//time[@class = 's-user-card--time']/..//span[@title]\"))\n",
    "for like in timess:\n",
    "    temp = like.get_attribute(\"title\")\n",
    "    if temp == 'reputation score ':\n",
    "        pass\n",
    "    else:\n",
    "        time.append(temp)\n"
   ]
  },
  {
   "cell_type": "code",
   "execution_count": 739,
   "metadata": {},
   "outputs": [],
   "source": [
    "context  = driver.find_elements(By.XPATH, '//div[@class=\"s-post-summary    js-post-summary\"]')\n"
   ]
  },
  {
   "cell_type": "code",
   "execution_count": 698,
   "metadata": {},
   "outputs": [
    {
     "data": {
      "text/plain": [
       "'0\\nvotes\\n0\\nanswers\\n3\\nviews\\nhow write bash script to find files then move them\\ni want to find files then move them , how can i do in in a bash script? find $PATH -type f -newermt \"1 day ago\" -exec gzip {} ; then find $PATH -type f -newermt \"1 day ago\" -exem ...\\nlinuxbashcentos7\\nmasoud atyabi\\n1\\nasked 1 min ago'"
      ]
     },
     "execution_count": 698,
     "metadata": {},
     "output_type": "execute_result"
    }
   ],
   "source": []
  },
  {
   "cell_type": "code",
   "execution_count": 747,
   "metadata": {},
   "outputs": [
    {
     "name": "stdout",
     "output_type": "stream",
     "text": [
      "74581174\n",
      "74581173\n",
      "74581165\n",
      "74581164\n",
      "74581158\n",
      "74581153\n",
      "74581152\n",
      "74581151\n",
      "74581149\n",
      "74581147\n",
      "74581146\n",
      "74581142\n",
      "74581141\n",
      "74581139\n",
      "74581136\n"
     ]
    }
   ],
   "source": [
    "for sda in context:\n",
    "    print(sda.get_attribute('data-post-id'))"
   ]
  },
  {
   "cell_type": "code",
   "execution_count": 645,
   "metadata": {},
   "outputs": [
    {
     "data": {
      "text/plain": [
       "'2022-11-26 09:11:34Z'"
      ]
     },
     "execution_count": 645,
     "metadata": {},
     "output_type": "execute_result"
    }
   ],
   "source": [
    "\n",
    "timess = aaaa[1].get_attribute(\"title\")\n",
    "\n",
    "timess\n"
   ]
  },
  {
   "cell_type": "code",
   "execution_count": 534,
   "metadata": {},
   "outputs": [
    {
     "data": {
      "text/plain": [
       "'asked 1 min ago'"
      ]
     },
     "execution_count": 534,
     "metadata": {},
     "output_type": "execute_result"
    }
   ],
   "source": []
  },
  {
   "cell_type": "code",
   "execution_count": 493,
   "metadata": {},
   "outputs": [],
   "source": [
    "\n",
    "data = pd.DataFrame({\n",
    "    'User': user,\n",
    "    'title': title,\n",
    "    'body':context_summary,\n",
    "    'tag' : tag,\n",
    "    'Vote' : votes\n",
    "        })"
   ]
  },
  {
   "cell_type": "code",
   "execution_count": 497,
   "metadata": {},
   "outputs": [],
   "source": [
    "page = 1\n",
    "driver.get(f\"https://stackoverflow.com/questions?tab=newest&page={page}\")"
   ]
  },
  {
   "cell_type": "code",
   "execution_count": 494,
   "metadata": {},
   "outputs": [
    {
     "data": {
      "text/html": [
       "<div>\n",
       "<style scoped>\n",
       "    .dataframe tbody tr th:only-of-type {\n",
       "        vertical-align: middle;\n",
       "    }\n",
       "\n",
       "    .dataframe tbody tr th {\n",
       "        vertical-align: top;\n",
       "    }\n",
       "\n",
       "    .dataframe thead th {\n",
       "        text-align: right;\n",
       "    }\n",
       "</style>\n",
       "<table border=\"1\" class=\"dataframe\">\n",
       "  <thead>\n",
       "    <tr style=\"text-align: right;\">\n",
       "      <th></th>\n",
       "      <th>User</th>\n",
       "      <th>title</th>\n",
       "      <th>body</th>\n",
       "      <th>tag</th>\n",
       "      <th>Vote</th>\n",
       "    </tr>\n",
       "  </thead>\n",
       "  <tbody>\n",
       "    <tr>\n",
       "      <th>0</th>\n",
       "      <td>kevinjonson133</td>\n",
       "      <td>How edit a discord message using the message's...</td>\n",
       "      <td>I have discord messaged that was send a few we...</td>\n",
       "      <td>[python, discord]</td>\n",
       "      <td>[0, 0, 6]</td>\n",
       "    </tr>\n",
       "    <tr>\n",
       "      <th>1</th>\n",
       "      <td>Vinz Jose</td>\n",
       "      <td>Android Studio Recycler View have gaps between...</td>\n",
       "      <td>I followed this tutorial on youtube for my sch...</td>\n",
       "      <td>[android-studio, android-recyclerview, grid-la...</td>\n",
       "      <td>[0, 0, 2]</td>\n",
       "    </tr>\n",
       "    <tr>\n",
       "      <th>2</th>\n",
       "      <td>Sam Ipeh</td>\n",
       "      <td>laravel storage - uploaded file become folder ...</td>\n",
       "      <td>im using laravel Storage and the problem is my...</td>\n",
       "      <td>[laravel]</td>\n",
       "      <td>[0, 0, 2]</td>\n",
       "    </tr>\n",
       "    <tr>\n",
       "      <th>3</th>\n",
       "      <td>Muthuraj</td>\n",
       "      <td>In jenkins [error] Error: Call retries were ex...</td>\n",
       "      <td>[error] Error: Call retries were exceeded at C...</td>\n",
       "      <td>[angular, angularjs, angular-material, jenkins...</td>\n",
       "      <td>[0, 0, 2]</td>\n",
       "    </tr>\n",
       "    <tr>\n",
       "      <th>4</th>\n",
       "      <td>n00bDev3l0per</td>\n",
       "      <td>Flutter - Create image thumbnail from video UR...</td>\n",
       "      <td>Jr. flutter/firebase developer here. I'm tryin...</td>\n",
       "      <td>[flutter, firebase, google-cloud-firestore, vi...</td>\n",
       "      <td>[0, 0, 2]</td>\n",
       "    </tr>\n",
       "    <tr>\n",
       "      <th>5</th>\n",
       "      <td>Ashish Sharma</td>\n",
       "      <td>'vector' was not declared in this scope(Questi...</td>\n",
       "      <td>I was trying to find intersection of two array...</td>\n",
       "      <td>[c++, arrays, vector, scope, intersection]</td>\n",
       "      <td>[0, 0, 3]</td>\n",
       "    </tr>\n",
       "    <tr>\n",
       "      <th>6</th>\n",
       "      <td>Hussein Terani</td>\n",
       "      <td>Azure Virtual Machine</td>\n",
       "      <td>I buy a new virtual machine, which is DS13_v2,...</td>\n",
       "      <td>[windows, azure, virtual-machine, ram, temporary]</td>\n",
       "      <td>[0, 0, 4]</td>\n",
       "    </tr>\n",
       "    <tr>\n",
       "      <th>7</th>\n",
       "      <td>Kal</td>\n",
       "      <td>javascript - map items and extract items from ...</td>\n",
       "      <td>How to extract items from a 2d array. const ar...</td>\n",
       "      <td>[javascript]</td>\n",
       "      <td>[0, 2, 13]</td>\n",
       "    </tr>\n",
       "    <tr>\n",
       "      <th>8</th>\n",
       "      <td>Tan Leon</td>\n",
       "      <td>the sentence on the title in showMessage dialog</td>\n",
       "      <td>import javax.swing.*; import javax.swing.JOpti...</td>\n",
       "      <td>[java, joptionpane]</td>\n",
       "      <td>[0, 0, 2]</td>\n",
       "    </tr>\n",
       "    <tr>\n",
       "      <th>9</th>\n",
       "      <td>Light916</td>\n",
       "      <td>Ray Tracing in a weekend -&gt; CUDA w/ BVH bug</td>\n",
       "      <td>I am trying to convert Ray Tracing in a weeken...</td>\n",
       "      <td>[c++, cuda, raytracing]</td>\n",
       "      <td>[0, 0, 3]</td>\n",
       "    </tr>\n",
       "    <tr>\n",
       "      <th>10</th>\n",
       "      <td>nightowl898</td>\n",
       "      <td>call a function from another function incremen...</td>\n",
       "      <td>call a function from another function incremen...</td>\n",
       "      <td>[javascript, input, output]</td>\n",
       "      <td>[-1, 0, 6]</td>\n",
       "    </tr>\n",
       "    <tr>\n",
       "      <th>11</th>\n",
       "      <td>Viral Jain</td>\n",
       "      <td>SyntaxError: Unexpected token { at Module._com...</td>\n",
       "      <td>What might be causing the error ``` /usr/local...</td>\n",
       "      <td>[reactjs, web-deployment, mern]</td>\n",
       "      <td>[0, 0, 5]</td>\n",
       "    </tr>\n",
       "    <tr>\n",
       "      <th>12</th>\n",
       "      <td>P.M.Wickramarathna</td>\n",
       "      <td>Python turtle module</td>\n",
       "      <td>I'm currently new to python programming. Nowad...</td>\n",
       "      <td>[python, python-3.x, python-turtle]</td>\n",
       "      <td>[0, 0, 10]</td>\n",
       "    </tr>\n",
       "    <tr>\n",
       "      <th>13</th>\n",
       "      <td>zCe</td>\n",
       "      <td>I cant stop a timer using KeyEvents</td>\n",
       "      <td>public void keyPressed(KeyEvent e) { Timer tim...</td>\n",
       "      <td>[java]</td>\n",
       "      <td>[0, 0, 3]</td>\n",
       "    </tr>\n",
       "    <tr>\n",
       "      <th>14</th>\n",
       "      <td>Phú Huỳnh Gia</td>\n",
       "      <td>How to seed tables orderly to avoid \"Integrity...</td>\n",
       "      <td>I have a bookstore project, and have 2 table: ...</td>\n",
       "      <td>[php, laravel, database, migrate, seed]</td>\n",
       "      <td>[0, 0, 4]</td>\n",
       "    </tr>\n",
       "  </tbody>\n",
       "</table>\n",
       "</div>"
      ],
      "text/plain": [
       "                  User                                              title  \\\n",
       "0       kevinjonson133  How edit a discord message using the message's...   \n",
       "1            Vinz Jose  Android Studio Recycler View have gaps between...   \n",
       "2             Sam Ipeh  laravel storage - uploaded file become folder ...   \n",
       "3             Muthuraj  In jenkins [error] Error: Call retries were ex...   \n",
       "4        n00bDev3l0per  Flutter - Create image thumbnail from video UR...   \n",
       "5        Ashish Sharma  'vector' was not declared in this scope(Questi...   \n",
       "6       Hussein Terani                              Azure Virtual Machine   \n",
       "7                  Kal  javascript - map items and extract items from ...   \n",
       "8             Tan Leon    the sentence on the title in showMessage dialog   \n",
       "9             Light916        Ray Tracing in a weekend -> CUDA w/ BVH bug   \n",
       "10         nightowl898  call a function from another function incremen...   \n",
       "11          Viral Jain  SyntaxError: Unexpected token { at Module._com...   \n",
       "12  P.M.Wickramarathna                               Python turtle module   \n",
       "13                 zCe                I cant stop a timer using KeyEvents   \n",
       "14       Phú Huỳnh Gia  How to seed tables orderly to avoid \"Integrity...   \n",
       "\n",
       "                                                 body  \\\n",
       "0   I have discord messaged that was send a few we...   \n",
       "1   I followed this tutorial on youtube for my sch...   \n",
       "2   im using laravel Storage and the problem is my...   \n",
       "3   [error] Error: Call retries were exceeded at C...   \n",
       "4   Jr. flutter/firebase developer here. I'm tryin...   \n",
       "5   I was trying to find intersection of two array...   \n",
       "6   I buy a new virtual machine, which is DS13_v2,...   \n",
       "7   How to extract items from a 2d array. const ar...   \n",
       "8   import javax.swing.*; import javax.swing.JOpti...   \n",
       "9   I am trying to convert Ray Tracing in a weeken...   \n",
       "10  call a function from another function incremen...   \n",
       "11  What might be causing the error ``` /usr/local...   \n",
       "12  I'm currently new to python programming. Nowad...   \n",
       "13  public void keyPressed(KeyEvent e) { Timer tim...   \n",
       "14  I have a bookstore project, and have 2 table: ...   \n",
       "\n",
       "                                                  tag        Vote  \n",
       "0                                   [python, discord]   [0, 0, 6]  \n",
       "1   [android-studio, android-recyclerview, grid-la...   [0, 0, 2]  \n",
       "2                                           [laravel]   [0, 0, 2]  \n",
       "3   [angular, angularjs, angular-material, jenkins...   [0, 0, 2]  \n",
       "4   [flutter, firebase, google-cloud-firestore, vi...   [0, 0, 2]  \n",
       "5          [c++, arrays, vector, scope, intersection]   [0, 0, 3]  \n",
       "6   [windows, azure, virtual-machine, ram, temporary]   [0, 0, 4]  \n",
       "7                                        [javascript]  [0, 2, 13]  \n",
       "8                                 [java, joptionpane]   [0, 0, 2]  \n",
       "9                             [c++, cuda, raytracing]   [0, 0, 3]  \n",
       "10                        [javascript, input, output]  [-1, 0, 6]  \n",
       "11                    [reactjs, web-deployment, mern]   [0, 0, 5]  \n",
       "12                [python, python-3.x, python-turtle]  [0, 0, 10]  \n",
       "13                                             [java]   [0, 0, 3]  \n",
       "14            [php, laravel, database, migrate, seed]   [0, 0, 4]  "
      ]
     },
     "execution_count": 494,
     "metadata": {},
     "output_type": "execute_result"
    }
   ],
   "source": [
    "data"
   ]
  },
  {
   "cell_type": "code",
   "execution_count": null,
   "metadata": {},
   "outputs": [],
   "source": []
  },
  {
   "cell_type": "code",
   "execution_count": null,
   "metadata": {},
   "outputs": [],
   "source": []
  }
 ],
 "metadata": {
  "kernelspec": {
   "display_name": "Python 3.11.0 64-bit",
   "language": "python",
   "name": "python3"
  },
  "language_info": {
   "codemirror_mode": {
    "name": "ipython",
    "version": 3
   },
   "file_extension": ".py",
   "mimetype": "text/x-python",
   "name": "python",
   "nbconvert_exporter": "python",
   "pygments_lexer": "ipython3",
   "version": "3.11.0"
  },
  "orig_nbformat": 4,
  "vscode": {
   "interpreter": {
    "hash": "05c59366e65ac7487a53c58408296204f9db286f8221645682179f8225787a36"
   }
  }
 },
 "nbformat": 4,
 "nbformat_minor": 2
}
