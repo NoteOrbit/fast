{
 "cells": [
  {
   "cell_type": "code",
   "execution_count": null,
   "metadata": {},
   "outputs": [],
   "source": [
    "import sel"
   ]
  }
 ],
 "metadata": {
  "kernelspec": {
   "display_name": "Python 3.9.15 ('fast')",
   "language": "python",
   "name": "python3"
  },
  "language_info": {
   "name": "python",
   "version": "3.9.15"
  },
  "orig_nbformat": 4,
  "vscode": {
   "interpreter": {
    "hash": "d1d33d1d9430cf488e584d356085a4f52e2d00de81c0d7c1889bd9ed402691eb"
   }
  }
 },
 "nbformat": 4,
 "nbformat_minor": 2
}
